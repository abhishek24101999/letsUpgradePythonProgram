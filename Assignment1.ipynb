{
  "nbformat": 4,
  "nbformat_minor": 0,
  "metadata": {
    "colab": {
      "name": "Assignment1.ipynb",
      "provenance": [],
      "collapsed_sections": [],
      "authorship_tag": "ABX9TyOS31t3qf0lUCgy1HG66txd",
      "include_colab_link": true
    },
    "kernelspec": {
      "name": "python3",
      "display_name": "Python 3"
    }
  },
  "cells": [
    {
      "cell_type": "markdown",
      "metadata": {
        "id": "view-in-github",
        "colab_type": "text"
      },
      "source": [
        "<a href=\"https://colab.research.google.com/github/abhishek24101999/letsUpgradePythonProgram/blob/main/Assignment1.ipynb\" target=\"_parent\"><img src=\"https://colab.research.google.com/assets/colab-badge.svg\" alt=\"Open In Colab\"/></a>"
      ]
    },
    {
      "cell_type": "markdown",
      "metadata": {
        "id": "LoZEkRFPvWug"
      },
      "source": [
        " 5 String Function\r\n",
        "\r\n"
      ]
    },
    {
      "cell_type": "markdown",
      "metadata": {
        "id": "rqu0u4-NvU04"
      },
      "source": [
        ""
      ]
    },
    {
      "cell_type": "code",
      "metadata": {
        "id": "7RcgPh_9rEQ3",
        "colab": {
          "base_uri": "https://localhost:8080/"
        },
        "outputId": "e122ca6a-d348-4698-931e-4ac17e01c63a"
      },
      "source": [
        "a = \"Python Programming\"\r\n",
        "print(a.replace(\"Programming\",\"Learning\"))"
      ],
      "execution_count": 5,
      "outputs": [
        {
          "output_type": "stream",
          "text": [
            "Python Learning\n"
          ],
          "name": "stdout"
        }
      ]
    },
    {
      "cell_type": "code",
      "metadata": {
        "colab": {
          "base_uri": "https://localhost:8080/"
        },
        "id": "MGvrNHhltDKq",
        "outputId": "0a8aad85-ca35-4b13-ff64-1979ec48d55b"
      },
      "source": [
        "a = \"Python\"\r\n",
        "b =\"Prgram\"\r\n",
        "print(a.join(b))"
      ],
      "execution_count": 11,
      "outputs": [
        {
          "output_type": "stream",
          "text": [
            "PPythonrPythongPythonrPythonaPythonm\n"
          ],
          "name": "stdout"
        }
      ]
    },
    {
      "cell_type": "code",
      "metadata": {
        "colab": {
          "base_uri": "https://localhost:8080/"
        },
        "id": "Yc1PY62Rt_DP",
        "outputId": "1665b4a3-71f9-49d7-9629-803766f38e01"
      },
      "source": [
        "a = \"Welcome to Python\"\r\n",
        "print(a.split())"
      ],
      "execution_count": 12,
      "outputs": [
        {
          "output_type": "stream",
          "text": [
            "['Welcome', 'to', 'Python']\n"
          ],
          "name": "stdout"
        }
      ]
    },
    {
      "cell_type": "code",
      "metadata": {
        "colab": {
          "base_uri": "https://localhost:8080/"
        },
        "id": "NFxopPokuMZV",
        "outputId": "7621b960-6242-4d54-92cf-7e4066baf30b"
      },
      "source": [
        "a = \"Saikiran Sir\"\r\n",
        "print(a.upper())"
      ],
      "execution_count": 13,
      "outputs": [
        {
          "output_type": "stream",
          "text": [
            "SAIKIRAN SIR\n"
          ],
          "name": "stdout"
        }
      ]
    },
    {
      "cell_type": "code",
      "metadata": {
        "colab": {
          "base_uri": "https://localhost:8080/"
        },
        "id": "tFqzxsxPudTT",
        "outputId": "cb6dfc3f-62db-4223-e7d9-29d0051f6be9"
      },
      "source": [
        "a = \"SAIKIRAN SIR\"\r\n",
        "print(a.lower())"
      ],
      "execution_count": 14,
      "outputs": [
        {
          "output_type": "stream",
          "text": [
            "saikiran sir\n"
          ],
          "name": "stdout"
        }
      ]
    },
    {
      "cell_type": "markdown",
      "metadata": {
        "id": "KLdIXEbEvsDr"
      },
      "source": [
        " 5 Funcion Of List object "
      ]
    },
    {
      "cell_type": "code",
      "metadata": {
        "colab": {
          "base_uri": "https://localhost:8080/"
        },
        "id": "D9cn4Zauv5JG",
        "outputId": "56ce93ae-253e-4ae1-d6d6-813be26bfb5f"
      },
      "source": [
        "list = [\"one\",\"two\"]\r\n",
        "list.append(\"three\")\r\n",
        "print(list)"
      ],
      "execution_count": 18,
      "outputs": [
        {
          "output_type": "stream",
          "text": [
            "['one', 'two', 'three']\n"
          ],
          "name": "stdout"
        }
      ]
    },
    {
      "cell_type": "code",
      "metadata": {
        "colab": {
          "base_uri": "https://localhost:8080/"
        },
        "id": "nHcZzR6ru0ft",
        "outputId": "d1d2b2bd-6a44-44f8-b6c7-7624d5edb5f9"
      },
      "source": [
        "list = [1,2,4]\r\n",
        "list.insert(2,3)\r\n",
        "print(list)"
      ],
      "execution_count": 19,
      "outputs": [
        {
          "output_type": "stream",
          "text": [
            "[1, 2, 3, 4]\n"
          ],
          "name": "stdout"
        }
      ]
    },
    {
      "cell_type": "code",
      "metadata": {
        "colab": {
          "base_uri": "https://localhost:8080/"
        },
        "id": "zw960h1dvFsW",
        "outputId": "28cc88c5-add2-474a-8f00-901e71420ea0"
      },
      "source": [
        "list = [123,575,75]\r\n",
        "print(sum(list))"
      ],
      "execution_count": 20,
      "outputs": [
        {
          "output_type": "stream",
          "text": [
            "773\n"
          ],
          "name": "stdout"
        }
      ]
    },
    {
      "cell_type": "code",
      "metadata": {
        "colab": {
          "base_uri": "https://localhost:8080/"
        },
        "id": "nawnsE2jyXKa",
        "outputId": "1b7b7678-1e7c-45f0-833b-c98ec710ed23"
      },
      "source": [
        "list = [1,2,3,4,3]\r\n",
        "print(list.count(3))"
      ],
      "execution_count": 24,
      "outputs": [
        {
          "output_type": "stream",
          "text": [
            "2\n"
          ],
          "name": "stdout"
        }
      ]
    },
    {
      "cell_type": "code",
      "metadata": {
        "colab": {
          "base_uri": "https://localhost:8080/"
        },
        "id": "ReAFk4SrzMFg",
        "outputId": "f64b326c-aa0a-4ece-bce3-739257902f97"
      },
      "source": [
        "list = [1,2,3,4,5,6,7,8]\r\n",
        "print(len(list))"
      ],
      "execution_count": 25,
      "outputs": [
        {
          "output_type": "stream",
          "text": [
            "8\n"
          ],
          "name": "stdout"
        }
      ]
    },
    {
      "cell_type": "markdown",
      "metadata": {
        "id": "7CPpRR4BvkPu"
      },
      "source": [
        "5 function of Dictionary"
      ]
    },
    {
      "cell_type": "code",
      "metadata": {
        "colab": {
          "base_uri": "https://localhost:8080/"
        },
        "id": "6728PpDjzoJw",
        "outputId": "eccdc060-469e-4e7f-d09d-39d714a4de5c"
      },
      "source": [
        "mydict = {1:'value',2:'value2',3:'value3'}\r\n",
        "print(len(mydict))"
      ],
      "execution_count": 36,
      "outputs": [
        {
          "output_type": "stream",
          "text": [
            "3\n"
          ],
          "name": "stdout"
        }
      ]
    },
    {
      "cell_type": "code",
      "metadata": {
        "colab": {
          "base_uri": "https://localhost:8080/"
        },
        "id": "hiq5JjNU15zW",
        "outputId": "80dd7e25-cb6c-4f78-fc54-4a3c4be4319e"
      },
      "source": [
        "mydict = { 1:'one',2:'two'}\r\n",
        "print (mydict.keys())"
      ],
      "execution_count": 34,
      "outputs": [
        {
          "output_type": "stream",
          "text": [
            "dict_keys([1, 2])\n"
          ],
          "name": "stdout"
        }
      ]
    },
    {
      "cell_type": "code",
      "metadata": {
        "colab": {
          "base_uri": "https://localhost:8080/"
        },
        "id": "rhU1mBUP4Pif",
        "outputId": "05d061bb-f8e7-43df-cbf3-607e5b1f5879"
      },
      "source": [
        "mydict = { 1:'one',2:'two'}\r\n",
        "print (mydict.values())"
      ],
      "execution_count": 37,
      "outputs": [
        {
          "output_type": "stream",
          "text": [
            "dict_values(['one', 'two'])\n"
          ],
          "name": "stdout"
        }
      ]
    },
    {
      "cell_type": "code",
      "metadata": {
        "colab": {
          "base_uri": "https://localhost:8080/"
        },
        "id": "YWl0vzN64dZ5",
        "outputId": "832aa862-56d3-46b8-c1ff-13c52af3f72a"
      },
      "source": [
        "mydict = {1:'value',2:'value2',3:'value3'}\r\n",
        "print(mydict.items())"
      ],
      "execution_count": 38,
      "outputs": [
        {
          "output_type": "stream",
          "text": [
            "dict_items([(1, 'value'), (2, 'value2'), (3, 'value3')])\n"
          ],
          "name": "stdout"
        }
      ]
    },
    {
      "cell_type": "code",
      "metadata": {
        "colab": {
          "base_uri": "https://localhost:8080/"
        },
        "id": "m1k2T5ND437I",
        "outputId": "aa3f3b9f-0a92-41da-cf1b-b9f04f1006c9"
      },
      "source": [
        "mydict = {'key1':'value','key2':'value2','key3':'value3'}\r\n",
        "print(mydict.clear())\r\n"
      ],
      "execution_count": 44,
      "outputs": [
        {
          "output_type": "stream",
          "text": [
            "None\n"
          ],
          "name": "stdout"
        }
      ]
    }
  ]
}