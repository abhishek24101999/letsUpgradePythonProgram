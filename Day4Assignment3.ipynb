{
  "nbformat": 4,
  "nbformat_minor": 0,
  "metadata": {
    "colab": {
      "name": "Day4Assignment3.ipynb",
      "provenance": [],
      "collapsed_sections": [],
      "authorship_tag": "ABX9TyN7JjYsrZzfcfp3w4Q2+uy3",
      "include_colab_link": true
    },
    "kernelspec": {
      "name": "python3",
      "display_name": "Python 3"
    }
  },
  "cells": [
    {
      "cell_type": "markdown",
      "metadata": {
        "id": "view-in-github",
        "colab_type": "text"
      },
      "source": [
        "<a href=\"https://colab.research.google.com/github/abhishek24101999/letsUpgradePythonProgram/blob/main/Day4Assignment3.ipynb\" target=\"_parent\"><img src=\"https://colab.research.google.com/assets/colab-badge.svg\" alt=\"Open In Colab\"/></a>"
      ]
    },
    {
      "cell_type": "code",
      "metadata": {
        "id": "de25HYrhxqyZ"
      },
      "source": [
        "Q1."
      ],
      "execution_count": null,
      "outputs": []
    },
    {
      "cell_type": "code",
      "metadata": {
        "colab": {
          "base_uri": "https://localhost:8080/"
        },
        "id": "yv7DvBEQql_A",
        "outputId": "7edd7872-8974-499e-abda-64cfa3e01c6b"
      },
      "source": [
        "ad= open('a.txt','w')\r\n",
        "ad.write( \"I Love LetsUpgarde\")\r\n",
        "ad.close()\r\n",
        "\r\n",
        "ad= open('a.txt','a')\r\n",
        "ad.write(\" Python Class\")\r\n",
        "ad.close()\r\n",
        "ad = open(\"a.txt\",'r+')\r\n",
        "print(ad.read())\r\n",
        "ad.close()\r\n",
        "\r\n",
        "\r\n"
      ],
      "execution_count": 26,
      "outputs": [
        {
          "output_type": "stream",
          "text": [
            "I Love LetsUpgarde Python Class\n"
          ],
          "name": "stdout"
        }
      ]
    },
    {
      "cell_type": "markdown",
      "metadata": {
        "id": "6QmxKc7qxvHc"
      },
      "source": [
        "Q2."
      ]
    },
    {
      "cell_type": "code",
      "metadata": {
        "colab": {
          "base_uri": "https://localhost:8080/"
        },
        "id": "mTsvEVLzyAJF",
        "outputId": "71d6a843-2c94-4180-c07d-6977984497c1"
      },
      "source": [
        "a=int(input(\"enter no:\"))\r\n",
        "def func(a):\r\n",
        "  fact=1\r\n",
        "  if a<0:\r\n",
        "    print(\"factorial does not exist\")\r\n",
        "  elif a == 0:\r\n",
        "      print(\"factorial of 0 is  1\")\r\n",
        "  else:\r\n",
        "      for i in range(1,a+1):\r\n",
        "        fact= fact*i\r\n",
        "      print(\"Factorial of \",a, \"is:\",fact)\r\n",
        "func(a)"
      ],
      "execution_count": 41,
      "outputs": [
        {
          "output_type": "stream",
          "text": [
            "enter no:10\n",
            "Factorial of  10 is: 3628800\n"
          ],
          "name": "stdout"
        }
      ]
    }
  ]
}