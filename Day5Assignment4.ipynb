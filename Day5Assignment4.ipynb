{
  "nbformat": 4,
  "nbformat_minor": 0,
  "metadata": {
    "colab": {
      "name": "Day5Assignment4.ipynb",
      "provenance": [],
      "collapsed_sections": [],
      "authorship_tag": "ABX9TyOIi1LySRGzj7rZxSlcpe1x",
      "include_colab_link": true
    },
    "kernelspec": {
      "name": "python3",
      "display_name": "Python 3"
    }
  },
  "cells": [
    {
      "cell_type": "markdown",
      "metadata": {
        "id": "view-in-github",
        "colab_type": "text"
      },
      "source": [
        "<a href=\"https://colab.research.google.com/github/abhishek24101999/letsUpgradePythonProgram/blob/main/Day5Assignment4.ipynb\" target=\"_parent\"><img src=\"https://colab.research.google.com/assets/colab-badge.svg\" alt=\"Open In Colab\"/></a>"
      ]
    },
    {
      "cell_type": "markdown",
      "metadata": {
        "id": "mYGhTtK6vaq-"
      },
      "source": [
        "Q1. "
      ]
    },
    {
      "cell_type": "code",
      "metadata": {
        "colab": {
          "base_uri": "https://localhost:8080/"
        },
        "id": "IeG_x-9muC3_",
        "outputId": "fb16d8f5-70be-4949-b9c0-a3532f173dca"
      },
      "source": [
        "!pip install cryptography\r\n",
        "\r\n",
        "\r\n"
      ],
      "execution_count": 5,
      "outputs": [
        {
          "output_type": "stream",
          "text": [
            "Collecting cryptography\n",
            "\u001b[?25l  Downloading https://files.pythonhosted.org/packages/c9/de/7054df0620b5411ba45480f0261e1fb66a53f3db31b28e3aa52c026e72d9/cryptography-3.3.1-cp36-abi3-manylinux2010_x86_64.whl (2.6MB)\n",
            "\u001b[K     |████████████████████████████████| 2.6MB 6.3MB/s \n",
            "\u001b[?25hRequirement already satisfied: cffi>=1.12 in /usr/local/lib/python3.6/dist-packages (from cryptography) (1.14.4)\n",
            "Requirement already satisfied: six>=1.4.1 in /usr/local/lib/python3.6/dist-packages (from cryptography) (1.15.0)\n",
            "Requirement already satisfied: pycparser in /usr/local/lib/python3.6/dist-packages (from cffi>=1.12->cryptography) (2.20)\n",
            "Installing collected packages: cryptography\n",
            "Successfully installed cryptography-3.3.1\n"
          ],
          "name": "stdout"
        }
      ]
    },
    {
      "cell_type": "code",
      "metadata": {
        "id": "V76WVQFwvi6n"
      },
      "source": [
        "from cryptography.fernet import Fernet\r\n"
      ],
      "execution_count": 9,
      "outputs": []
    },
    {
      "cell_type": "code",
      "metadata": {
        "id": "Hj7KhOdX0DU8"
      },
      "source": [
        "def genratePassKey():\r\n",
        "  key = Fernet.generate_key()\r\n",
        "  print(key)\r\n",
        "  print(type(key))\r\n",
        "  abc = open(\"PasswordKey.key\",'wb')\r\n",
        "  abc.write(key) \r\n",
        "  abc.close()"
      ],
      "execution_count": 10,
      "outputs": []
    },
    {
      "cell_type": "code",
      "metadata": {
        "id": "ZLDmjWnv0SZg"
      },
      "source": [
        "def getMyKey():\r\n",
        "  abc = open(\"PasswordKey.key\",'rb')\r\n",
        "  key = abc.read()\r\n",
        "  abc.close()\r\n",
        "  return key"
      ],
      "execution_count": 11,
      "outputs": []
    },
    {
      "cell_type": "code",
      "metadata": {
        "id": "_zubKoXr0nIS"
      },
      "source": [
        "def getContentFromUser():\r\n",
        "  return input(\"Enter the Content to encrypt\")"
      ],
      "execution_count": 12,
      "outputs": []
    },
    {
      "cell_type": "code",
      "metadata": {
        "id": "TAFLB1H31Cgh"
      },
      "source": [
        "def encryptMessage(message_normal):\r\n",
        "  key = getMyKey()\r\n",
        "  k = Fernet(key)\r\n",
        "  encrypted_Message = k.encrypt(message_normal)\r\n",
        "  return encrypted_Message"
      ],
      "execution_count": 13,
      "outputs": []
    },
    {
      "cell_type": "code",
      "metadata": {
        "id": "aW3qL-7y1pXM"
      },
      "source": [
        "def decryptMessage(message_secret):\r\n",
        " key = getMyKey()\r\n",
        " k = Fernet(key)\r\n",
        " decrypted_Message = k.decrypt(message_secret)\r\n",
        " return decrypted_Message"
      ],
      "execution_count": 14,
      "outputs": []
    },
    {
      "cell_type": "code",
      "metadata": {
        "colab": {
          "base_uri": "https://localhost:8080/",
          "height": 86
        },
        "id": "D8eUaLGz2N-R",
        "outputId": "f7221dc1-cc49-49f5-c2ae-c4c65984c97f"
      },
      "source": [
        " genratePassKey()\r\n",
        " getMyKey()\r\n",
        " getContentFromUser()\r\n"
      ],
      "execution_count": 15,
      "outputs": [
        {
          "output_type": "stream",
          "text": [
            "b'mipklr_uNw4DUQaipBEIc0GLl_c5bP6elphRWqFdGfc='\n",
            "<class 'bytes'>\n",
            "Enter the Content to encrypthello\n"
          ],
          "name": "stdout"
        },
        {
          "output_type": "execute_result",
          "data": {
            "application/vnd.google.colaboratory.intrinsic+json": {
              "type": "string"
            },
            "text/plain": [
              "'hello'"
            ]
          },
          "metadata": {
            "tags": []
          },
          "execution_count": 15
        }
      ]
    },
    {
      "cell_type": "code",
      "metadata": {
        "colab": {
          "base_uri": "https://localhost:8080/"
        },
        "id": "faE9nWRO3Onv",
        "outputId": "557dec2a-c0be-4798-8127-5172f9f2f69e"
      },
      "source": [
        "encryptMessage(b'hello')"
      ],
      "execution_count": 16,
      "outputs": [
        {
          "output_type": "execute_result",
          "data": {
            "text/plain": [
              "b'gAAAAABf3PojxHcMyUCi5pGK-oSId7IglyZObiSgNr3UR_nm_QwOH0yTNgUf0BflOGzO3Rt_Udg3PxXl-lo3yUKN-SZeIMWqBQ=='"
            ]
          },
          "metadata": {
            "tags": []
          },
          "execution_count": 16
        }
      ]
    },
    {
      "cell_type": "code",
      "metadata": {
        "colab": {
          "base_uri": "https://localhost:8080/"
        },
        "id": "liXOi2IA4Cri",
        "outputId": "65dd0ba4-40c4-4415-8632-e81bb53f4579"
      },
      "source": [
        "decryptMessage(b'gAAAAABf3PojxHcMyUCi5pGK-oSId7IglyZObiSgNr3UR_nm_QwOH0yTNgUf0BflOGzO3Rt_Udg3PxXl-lo3yUKN-SZeIMWqBQ=='\r\n",
        ")"
      ],
      "execution_count": 18,
      "outputs": [
        {
          "output_type": "execute_result",
          "data": {
            "text/plain": [
              "b'hello'"
            ]
          },
          "metadata": {
            "tags": []
          },
          "execution_count": 18
        }
      ]
    }
  ]
}