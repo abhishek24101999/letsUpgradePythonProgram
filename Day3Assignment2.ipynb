{
  "nbformat": 4,
  "nbformat_minor": 0,
  "metadata": {
    "colab": {
      "name": "Day3Assignment2.ipynb",
      "provenance": [],
      "collapsed_sections": [],
      "authorship_tag": "ABX9TyNOkNwaARgTzWDrlI7ImZsq",
      "include_colab_link": true
    },
    "kernelspec": {
      "name": "python3",
      "display_name": "Python 3"
    }
  },
  "cells": [
    {
      "cell_type": "markdown",
      "metadata": {
        "id": "view-in-github",
        "colab_type": "text"
      },
      "source": [
        "<a href=\"https://colab.research.google.com/github/abhishek24101999/letsUpgradePythonProgram/blob/main/Day3Assignment2.ipynb\" target=\"_parent\"><img src=\"https://colab.research.google.com/assets/colab-badge.svg\" alt=\"Open In Colab\"/></a>"
      ]
    },
    {
      "cell_type": "markdown",
      "metadata": {
        "id": "u73vOrHunuUv"
      },
      "source": [
        "Q1.REPORT CARD"
      ]
    },
    {
      "cell_type": "code",
      "metadata": {
        "colab": {
          "base_uri": "https://localhost:8080/"
        },
        "id": "6ykBoXxnnm7B",
        "outputId": "6f9541ed-6be8-406f-fbae-b357aa6632ec"
      },
      "source": [
        "mark= 85\r\n",
        "if mark >=85 and mark <= 100:\r\n",
        "      print(\"High Distinction\")\r\n",
        "elif mark >=75 and mark <= 84:\r\n",
        "      print(\"Distinction\")\r\n",
        "elif mark >=65 and mark <= 74:\r\n",
        "      print(\"Credit\")\r\n",
        "elif mark >=50 and mark <= 64:\r\n",
        "      print(\"Pass\")\r\n",
        "else:\r\n",
        "  print(\"FAIL\")"
      ],
      "execution_count": null,
      "outputs": [
        {
          "output_type": "stream",
          "text": [
            "High Distinction\n"
          ],
          "name": "stdout"
        }
      ]
    },
    {
      "cell_type": "markdown",
      "metadata": {
        "id": "HKQHTdJ7va_W"
      },
      "source": [
        "Q2.Use for loop to print prime numbers between 1 to 1000"
      ]
    },
    {
      "cell_type": "code",
      "metadata": {
        "colab": {
          "base_uri": "https://localhost:8080/"
        },
        "id": "17xePh7zvfJF",
        "outputId": "3d4250e5-2024-4fa0-cf57-f262b8558b2b"
      },
      "source": [
        " \n",
        "for num in range(1, 1001):\n",
        "    for i in range(2, num):\n",
        "        if num % i == 0:\n",
        "            break\n",
        "    else:\n",
        "        print (num, 'is a prime number')"
      ],
      "execution_count": null,
      "outputs": [
        {
          "output_type": "stream",
          "text": [
            "1 is a prime number\n",
            "2 is a prime number\n",
            "3 is a prime number\n",
            "5 is a prime number\n",
            "7 is a prime number\n",
            "11 is a prime number\n",
            "13 is a prime number\n",
            "17 is a prime number\n",
            "19 is a prime number\n",
            "23 is a prime number\n",
            "29 is a prime number\n",
            "31 is a prime number\n",
            "37 is a prime number\n",
            "41 is a prime number\n",
            "43 is a prime number\n",
            "47 is a prime number\n",
            "53 is a prime number\n",
            "59 is a prime number\n",
            "61 is a prime number\n",
            "67 is a prime number\n",
            "71 is a prime number\n",
            "73 is a prime number\n",
            "79 is a prime number\n",
            "83 is a prime number\n",
            "89 is a prime number\n",
            "97 is a prime number\n",
            "101 is a prime number\n",
            "103 is a prime number\n",
            "107 is a prime number\n",
            "109 is a prime number\n",
            "113 is a prime number\n",
            "127 is a prime number\n",
            "131 is a prime number\n",
            "137 is a prime number\n",
            "139 is a prime number\n",
            "149 is a prime number\n",
            "151 is a prime number\n",
            "157 is a prime number\n",
            "163 is a prime number\n",
            "167 is a prime number\n",
            "173 is a prime number\n",
            "179 is a prime number\n",
            "181 is a prime number\n",
            "191 is a prime number\n",
            "193 is a prime number\n",
            "197 is a prime number\n",
            "199 is a prime number\n",
            "211 is a prime number\n",
            "223 is a prime number\n",
            "227 is a prime number\n",
            "229 is a prime number\n",
            "233 is a prime number\n",
            "239 is a prime number\n",
            "241 is a prime number\n",
            "251 is a prime number\n",
            "257 is a prime number\n",
            "263 is a prime number\n",
            "269 is a prime number\n",
            "271 is a prime number\n",
            "277 is a prime number\n",
            "281 is a prime number\n",
            "283 is a prime number\n",
            "293 is a prime number\n",
            "307 is a prime number\n",
            "311 is a prime number\n",
            "313 is a prime number\n",
            "317 is a prime number\n",
            "331 is a prime number\n",
            "337 is a prime number\n",
            "347 is a prime number\n",
            "349 is a prime number\n",
            "353 is a prime number\n",
            "359 is a prime number\n",
            "367 is a prime number\n",
            "373 is a prime number\n",
            "379 is a prime number\n",
            "383 is a prime number\n",
            "389 is a prime number\n",
            "397 is a prime number\n",
            "401 is a prime number\n",
            "409 is a prime number\n",
            "419 is a prime number\n",
            "421 is a prime number\n",
            "431 is a prime number\n",
            "433 is a prime number\n",
            "439 is a prime number\n",
            "443 is a prime number\n",
            "449 is a prime number\n",
            "457 is a prime number\n",
            "461 is a prime number\n",
            "463 is a prime number\n",
            "467 is a prime number\n",
            "479 is a prime number\n",
            "487 is a prime number\n",
            "491 is a prime number\n",
            "499 is a prime number\n",
            "503 is a prime number\n",
            "509 is a prime number\n",
            "521 is a prime number\n",
            "523 is a prime number\n",
            "541 is a prime number\n",
            "547 is a prime number\n",
            "557 is a prime number\n",
            "563 is a prime number\n",
            "569 is a prime number\n",
            "571 is a prime number\n",
            "577 is a prime number\n",
            "587 is a prime number\n",
            "593 is a prime number\n",
            "599 is a prime number\n",
            "601 is a prime number\n",
            "607 is a prime number\n",
            "613 is a prime number\n",
            "617 is a prime number\n",
            "619 is a prime number\n",
            "631 is a prime number\n",
            "641 is a prime number\n",
            "643 is a prime number\n",
            "647 is a prime number\n",
            "653 is a prime number\n",
            "659 is a prime number\n",
            "661 is a prime number\n",
            "673 is a prime number\n",
            "677 is a prime number\n",
            "683 is a prime number\n",
            "691 is a prime number\n",
            "701 is a prime number\n",
            "709 is a prime number\n",
            "719 is a prime number\n",
            "727 is a prime number\n",
            "733 is a prime number\n",
            "739 is a prime number\n",
            "743 is a prime number\n",
            "751 is a prime number\n",
            "757 is a prime number\n",
            "761 is a prime number\n",
            "769 is a prime number\n",
            "773 is a prime number\n",
            "787 is a prime number\n",
            "797 is a prime number\n",
            "809 is a prime number\n",
            "811 is a prime number\n",
            "821 is a prime number\n",
            "823 is a prime number\n",
            "827 is a prime number\n",
            "829 is a prime number\n",
            "839 is a prime number\n",
            "853 is a prime number\n",
            "857 is a prime number\n",
            "859 is a prime number\n",
            "863 is a prime number\n",
            "877 is a prime number\n",
            "881 is a prime number\n",
            "883 is a prime number\n",
            "887 is a prime number\n",
            "907 is a prime number\n",
            "911 is a prime number\n",
            "919 is a prime number\n",
            "929 is a prime number\n",
            "937 is a prime number\n",
            "941 is a prime number\n",
            "947 is a prime number\n",
            "953 is a prime number\n",
            "967 is a prime number\n",
            "971 is a prime number\n",
            "977 is a prime number\n",
            "983 is a prime number\n",
            "991 is a prime number\n",
            "997 is a prime number\n"
          ],
          "name": "stdout"
        }
      ]
    },
    {
      "cell_type": "markdown",
      "metadata": {
        "id": "zKyES4tOKRSP"
      },
      "source": [
        "Q3.Program to print the tables from 1 to 10 using nested loop"
      ]
    },
    {
      "cell_type": "code",
      "metadata": {
        "colab": {
          "base_uri": "https://localhost:8080/"
        },
        "id": "YAGzY3tOKN3y",
        "outputId": "a6189d3d-5a1e-4938-f76d-fc11b7f65251"
      },
      "source": [
        " for i in range(1, 10):\n",
        "    print ('\\n',format(i),':',)\n",
        "    for j in range(1, 10):\n",
        "        print (format(i*j),)"
      ],
      "execution_count": null,
      "outputs": [
        {
          "output_type": "stream",
          "text": [
            "\n",
            " 1 :\n",
            "1\n",
            "2\n",
            "3\n",
            "4\n",
            "5\n",
            "6\n",
            "7\n",
            "8\n",
            "9\n",
            "\n",
            " 2 :\n",
            "2\n",
            "4\n",
            "6\n",
            "8\n",
            "10\n",
            "12\n",
            "14\n",
            "16\n",
            "18\n",
            "\n",
            " 3 :\n",
            "3\n",
            "6\n",
            "9\n",
            "12\n",
            "15\n",
            "18\n",
            "21\n",
            "24\n",
            "27\n",
            "\n",
            " 4 :\n",
            "4\n",
            "8\n",
            "12\n",
            "16\n",
            "20\n",
            "24\n",
            "28\n",
            "32\n",
            "36\n",
            "\n",
            " 5 :\n",
            "5\n",
            "10\n",
            "15\n",
            "20\n",
            "25\n",
            "30\n",
            "35\n",
            "40\n",
            "45\n",
            "\n",
            " 6 :\n",
            "6\n",
            "12\n",
            "18\n",
            "24\n",
            "30\n",
            "36\n",
            "42\n",
            "48\n",
            "54\n",
            "\n",
            " 7 :\n",
            "7\n",
            "14\n",
            "21\n",
            "28\n",
            "35\n",
            "42\n",
            "49\n",
            "56\n",
            "63\n",
            "\n",
            " 8 :\n",
            "8\n",
            "16\n",
            "24\n",
            "32\n",
            "40\n",
            "48\n",
            "56\n",
            "64\n",
            "72\n",
            "\n",
            " 9 :\n",
            "9\n",
            "18\n",
            "27\n",
            "36\n",
            "45\n",
            "54\n",
            "63\n",
            "72\n",
            "81\n"
          ],
          "name": "stdout"
        }
      ]
    },
    {
      "cell_type": "markdown",
      "metadata": {
        "id": "cQWiiFRANunP"
      },
      "source": [
        "Q4. Program to checj whether given number is Prime or not using while loop"
      ]
    },
    {
      "cell_type": "code",
      "metadata": {
        "colab": {
          "base_uri": "https://localhost:8080/"
        },
        "id": "j7lvbzGaNw3F",
        "outputId": "787c5bc6-a07a-494a-f7e7-bef511d2bda8"
      },
      "source": [
        " \n",
        "num = int(input(\"Enter a number: \"))  \n",
        "f = 0\n",
        "i = 2\n",
        "while i <= num / 2:\n",
        "    if num % i == 0:\n",
        "        f=1\n",
        "        break\n",
        "    i=i+1\n",
        "    \n",
        "if f==0:\n",
        "    print(\"The entered number is a PRIME number\")\n",
        "else:\n",
        "    print(\"The entered number is not a PRIME\")"
      ],
      "execution_count": null,
      "outputs": [
        {
          "output_type": "stream",
          "text": [
            "Enter a number: 1\n",
            "The entered number is a PRIME number\n"
          ],
          "name": "stdout"
        }
      ]
    }
  ]
}